{
  "nbformat": 4,
  "nbformat_minor": 0,
  "metadata": {
    "colab": {
      "name": "Object Recognition.ipynb",
      "provenance": [],
      "collapsed_sections": []
    },
    "kernelspec": {
      "name": "python3",
      "display_name": "Python 3"
    },
    "accelerator": "GPU"
  },
  "cells": [
    {
      "cell_type": "code",
      "metadata": {
        "id": "XFG7MtHp1AQe",
        "colab_type": "code",
        "colab": {}
      },
      "source": [
        "import keras\n",
        "import tensorflow as tf\n",
        "from keras.datasets import cifar10\n",
        "from keras.utils import np_utils\n",
        "import matplotlib.pyplot as plt\n",
        "import pandas as pd\n",
        "import numpy as np\n",
        "from PIL import Image\n",
        "%matplotlib inline\n",
        "from keras import backend as K"
      ],
      "execution_count": 0,
      "outputs": []
    },
    {
      "cell_type": "code",
      "metadata": {
        "id": "MIE0So7J1Gha",
        "colab_type": "code",
        "colab": {}
      },
      "source": [
        "import sys"
      ],
      "execution_count": 0,
      "outputs": []
    },
    {
      "cell_type": "markdown",
      "metadata": {
        "id": "Gm5QbB_G1Q4d",
        "colab_type": "text"
      },
      "source": [
        "Load Dataset And Preprocess Dataset"
      ]
    },
    {
      "cell_type": "code",
      "metadata": {
        "id": "2Ig7zwXk1So-",
        "colab_type": "code",
        "colab": {}
      },
      "source": [
        "(X_train, y_train), (X_test, y_test) = cifar10.load_data()"
      ],
      "execution_count": 0,
      "outputs": []
    },
    {
      "cell_type": "code",
      "metadata": {
        "id": "Rcm8VtzB1cyI",
        "colab_type": "code",
        "colab": {
          "base_uri": "https://localhost:8080/",
          "height": 50
        },
        "outputId": "8f02bb64-5165-4c6e-bcaf-7786bf23c307"
      },
      "source": [
        "print(X_train.shape, y_train.shape)\n",
        "print(X_test.shape, y_test.shape)"
      ],
      "execution_count": 26,
      "outputs": [
        {
          "output_type": "stream",
          "text": [
            "(50000, 32, 32, 3) (50000, 1)\n",
            "(10000, 32, 32, 3) (10000, 1)\n"
          ],
          "name": "stdout"
        }
      ]
    },
    {
      "cell_type": "code",
      "metadata": {
        "id": "k_-Roaod1e_P",
        "colab_type": "code",
        "colab": {
          "base_uri": "https://localhost:8080/",
          "height": 34
        },
        "outputId": "dbd1d9c1-97ff-4cbe-970c-0c050058ec02"
      },
      "source": [
        "X_train[1].shape"
      ],
      "execution_count": 27,
      "outputs": [
        {
          "output_type": "execute_result",
          "data": {
            "text/plain": [
              "(32, 32, 3)"
            ]
          },
          "metadata": {
            "tags": []
          },
          "execution_count": 27
        }
      ]
    },
    {
      "cell_type": "code",
      "metadata": {
        "id": "fn-4a7ky1iyE",
        "colab_type": "code",
        "colab": {
          "base_uri": "https://localhost:8080/",
          "height": 269
        },
        "outputId": "93def921-8af3-44e3-fbc7-4563f06f7ef0"
      },
      "source": [
        "plt.imshow(X_train[5])\n",
        "plt.show()"
      ],
      "execution_count": 28,
      "outputs": [
        {
          "output_type": "display_data",
          "data": {
            "image/png": "[encoded data removed]",
            "text/plain": [
              "<Figure size 432x288 with 1 Axes>"
            ]
          },
          "metadata": {
            "tags": []
          }
        }
      ]
    },
    {
      "cell_type": "code",
      "metadata": {
        "id": "cFdpSXpM1kq0",
        "colab_type": "code",
        "colab": {}
      },
      "source": [
        "(X_train, y_train), (X_test, y_test) = cifar10.load_data()\n",
        "X_train = X_train.astype('float32')/255.0\n",
        "X_test = X_test.astype('float')/255.0"
      ],
      "execution_count": 0,
      "outputs": []
    },
    {
      "cell_type": "code",
      "metadata": {
        "id": "aUvF8Hvp1nG4",
        "colab_type": "code",
        "colab": {
          "base_uri": "https://localhost:8080/",
          "height": 34
        },
        "outputId": "ed16dee8-497a-45b6-c5f4-9c233705afb0"
      },
      "source": [
        "Y_train = np_utils.to_categorical(y_train)\n",
        "Y_test = np_utils.to_categorical(y_test)\n",
        "num_classes = Y_test.shape[1]\n",
        "print(num_classes)"
      ],
      "execution_count": 30,
      "outputs": [
        {
          "output_type": "stream",
          "text": [
            "10\n"
          ],
          "name": "stdout"
        }
      ]
    },
    {
      "cell_type": "code",
      "metadata": {
        "id": "OPUz9HsX1o5n",
        "colab_type": "code",
        "colab": {}
      },
      "source": [
        "from keras.models import Sequential\n",
        "from keras.layers import Conv2D , GlobalAveragePooling2D, Dropout, Activation\n",
        "from keras.optimizers import SGD\n",
        "from keras.models import load_model"
      ],
      "execution_count": 0,
      "outputs": []
    },
    {
      "cell_type": "code",
      "metadata": {
        "id": "8jAhqlpM1qiG",
        "colab_type": "code",
        "colab": {}
      },
      "source": [
        "model = Sequential()\n",
        "\n",
        "model.add(Conv2D(96, (3, 3), padding = 'same', input_shape = (32, 32, 3)))\n",
        "model.add(Activation('relu'))\n",
        "model.add(Conv2D(96, (3, 3), padding = 'same' ))\n",
        "model.add(Activation('relu'))\n",
        "model.add(Conv2D(96, (3, 3), padding = 'same', strides = (2, 2)))\n",
        "model.add(Dropout(0.5))\n",
        "\n",
        "model.add(Conv2D(192, (3, 3), padding = 'same'))\n",
        "model.add(Activation('relu'))\n",
        "model.add(Conv2D(192, (3, 3), padding = 'same'))\n",
        "model.add(Activation('relu'))\n",
        "model.add(Conv2D(192, (3, 3), padding = 'same', strides = (2, 2)))\n",
        "model.add(Activation('relu'))\n",
        "model.add(Dropout(0.5))\n",
        "\n",
        "model.add(Conv2D(192, (3, 3), padding = 'same'))\n",
        "model.add(Activation('relu'))\n",
        "model.add(Conv2D(192, (1, 1), padding = 'valid'))\n",
        "model.add(Activation('relu'))\n",
        "model.add(Conv2D(10, (1, 1), padding = 'valid'))\n",
        "\n",
        "model.add(GlobalAveragePooling2D())\n",
        "model.add(Activation('softmax'))\n"
      ],
      "execution_count": 0,
      "outputs": []
    },
    {
      "cell_type": "code",
      "metadata": {
        "id": "Ya1X5XXO1s60",
        "colab_type": "code",
        "colab": {
          "base_uri": "https://localhost:8080/",
          "height": 823
        },
        "outputId": "6794670f-f369-4cf0-fde9-cbbb274757dc"
      },
      "source": [
        "model.compile(loss = 'categorical_crossentropy',\n",
        "             optimizer = 'sgd',\n",
        "             metrics = ['accuracy'])\n",
        "model.summary()"
      ],
      "execution_count": 33,
      "outputs": [
        {
          "output_type": "stream",
          "text": [
            "Model: \"sequential_3\"\n",
            "_________________________________________________________________\n",
            "Layer (type)                 Output Shape              Param #   \n",
            "=================================================================\n",
            "conv2d_10 (Conv2D)           (None, 32, 32, 96)        2688      \n",
            "_________________________________________________________________\n",
            "activation_9 (Activation)    (None, 32, 32, 96)        0         \n",
            "_________________________________________________________________\n",
            "conv2d_11 (Conv2D)           (None, 32, 32, 96)        83040     \n",
            "_________________________________________________________________\n",
            "activation_10 (Activation)   (None, 32, 32, 96)        0         \n",
            "_________________________________________________________________\n",
            "conv2d_12 (Conv2D)           (None, 16, 16, 96)        83040     \n",
            "_________________________________________________________________\n",
            "dropout_3 (Dropout)          (None, 16, 16, 96)        0         \n",
            "_________________________________________________________________\n",
            "conv2d_13 (Conv2D)           (None, 16, 16, 192)       166080    \n",
            "_________________________________________________________________\n",
            "activation_11 (Activation)   (None, 16, 16, 192)       0         \n",
            "_________________________________________________________________\n",
            "conv2d_14 (Conv2D)           (None, 16, 16, 192)       331968    \n",
            "_________________________________________________________________\n",
            "activation_12 (Activation)   (None, 16, 16, 192)       0         \n",
            "_________________________________________________________________\n",
            "conv2d_15 (Conv2D)           (None, 8, 8, 192)         331968    \n",
            "_________________________________________________________________\n",
            "activation_13 (Activation)   (None, 8, 8, 192)         0         \n",
            "_________________________________________________________________\n",
            "dropout_4 (Dropout)          (None, 8, 8, 192)         0         \n",
            "_________________________________________________________________\n",
            "conv2d_16 (Conv2D)           (None, 8, 8, 192)         331968    \n",
            "_________________________________________________________________\n",
            "activation_14 (Activation)   (None, 8, 8, 192)         0         \n",
            "_________________________________________________________________\n",
            "conv2d_17 (Conv2D)           (None, 8, 8, 192)         37056     \n",
            "_________________________________________________________________\n",
            "activation_15 (Activation)   (None, 8, 8, 192)         0         \n",
            "_________________________________________________________________\n",
            "conv2d_18 (Conv2D)           (None, 8, 8, 10)          1930      \n",
            "_________________________________________________________________\n",
            "global_average_pooling2d_2 ( (None, 10)                0         \n",
            "_________________________________________________________________\n",
            "activation_16 (Activation)   (None, 10)                0         \n",
            "=================================================================\n",
            "Total params: 1,369,738\n",
            "Trainable params: 1,369,738\n",
            "Non-trainable params: 0\n",
            "_________________________________________________________________\n"
          ],
          "name": "stdout"
        }
      ]
    },
    {
      "cell_type": "code",
      "metadata": {
        "id": "5XPAyJXE2K-8",
        "colab_type": "code",
        "colab": {}
      },
      "source": [
        "# model.fit(X_train, Y_train,\n",
        "#           validation_data = (X_test, Y_test),\n",
        "#          epochs = 350,\n",
        "#          batch_size = 32,\n",
        "#           verbose = 1)"
      ],
      "execution_count": 0,
      "outputs": []
    },
    {
      "cell_type": "code",
      "metadata": {
        "id": "5Zqd8IUj2sLL",
        "colab_type": "code",
        "colab": {}
      },
      "source": [
        ""
      ],
      "execution_count": 0,
      "outputs": []
    },
    {
      "cell_type": "markdown",
      "metadata": {
        "id": "-nohHszQI4Z6",
        "colab_type": "text"
      },
      "source": [
        "Using Pretrained Weights"
      ]
    },
    {
      "cell_type": "code",
      "metadata": {
        "id": "0-rvDBkzI8_k",
        "colab_type": "code",
        "colab": {}
      },
      "source": [
        "model = load_model('all_cnn_weights_0.9088_0.4994.hdf5')"
      ],
      "execution_count": 0,
      "outputs": []
    },
    {
      "cell_type": "code",
      "metadata": {
        "id": "5Qw_d7FtJZLM",
        "colab_type": "code",
        "colab": {}
      },
      "source": [
        ""
      ],
      "execution_count": 0,
      "outputs": []
    },
    {
      "cell_type": "markdown",
      "metadata": {
        "id": "EF3qGdWVKaYA",
        "colab_type": "text"
      },
      "source": [
        "Test the model with pretrained weight"
      ]
    },
    {
      "cell_type": "code",
      "metadata": {
        "id": "nP5QEIPZKeL3",
        "colab_type": "code",
        "colab": {
          "base_uri": "https://localhost:8080/",
          "height": 50
        },
        "outputId": "9c46ef34-badb-494e-a3b1-68bc0a63f08a"
      },
      "source": [
        "scores = model.evaluate(X_test, Y_test, verbose = 1)\n",
        "print(('Accuracy : {}'.format(scores[1])))"
      ],
      "execution_count": 36,
      "outputs": [
        {
          "output_type": "stream",
          "text": [
            "10000/10000 [==============================] - 4s 424us/step\n",
            "Accuracy : 0.9088\n"
          ],
          "name": "stdout"
        }
      ]
    },
    {
      "cell_type": "code",
      "metadata": {
        "id": "BGXU3G9gKwJC",
        "colab_type": "code",
        "colab": {
          "base_uri": "https://localhost:8080/",
          "height": 54
        },
        "outputId": "caa17bbf-98b2-4552-807a-840c14f64c08"
      },
      "source": [
        "classes = range(0, 10)\n",
        "names = [\n",
        "    'airplane',\n",
        "    'automobile',\n",
        "    'bird',\n",
        "    'cat',\n",
        "    'deer',\n",
        "    'dog',\n",
        "    'frog',\n",
        "    'horse',\n",
        "    'ship',\n",
        "    'truck']\n",
        "\n",
        "class_labels = dict(zip(classes, names))\n",
        "print(class_labels)"
      ],
      "execution_count": 37,
      "outputs": [
        {
          "output_type": "stream",
          "text": [
            "{0: 'airplane', 1: 'automobile', 2: 'bird', 3: 'cat', 4: 'deer', 5: 'dog', 6: 'frog', 7: 'horse', 8: 'ship', 9: 'truck'}\n"
          ],
          "name": "stdout"
        }
      ]
    },
    {
      "cell_type": "code",
      "metadata": {
        "id": "eAr78TORMI2P",
        "colab_type": "code",
        "colab": {
          "base_uri": "https://localhost:8080/",
          "height": 34
        },
        "outputId": "5a8b7473-d44c-42bb-d22f-3d524c5b5f8a"
      },
      "source": [
        "# generate batch of 9 images to predict\n",
        "\n",
        "batch = X_test[100:109]\n",
        "labels = np.argmax(Y_test[100:109], axis = -1)\n",
        "\n",
        "# predictions\n",
        "\n",
        "predictions = model.predict(batch, verbose = 1)"
      ],
      "execution_count": 38,
      "outputs": [
        {
          "output_type": "stream",
          "text": [
            "\r9/9 [==============================] - 0s 13ms/step\n"
          ],
          "name": "stdout"
        }
      ]
    },
    {
      "cell_type": "code",
      "metadata": {
        "id": "ibsrz8vjMsBV",
        "colab_type": "code",
        "colab": {
          "base_uri": "https://localhost:8080/",
          "height": 470
        },
        "outputId": "7ea8f6fe-7722-4c04-8964-89285dcfcb8c"
      },
      "source": [
        "predictions"
      ],
      "execution_count": 39,
      "outputs": [
        {
          "output_type": "execute_result",
          "data": {
            "text/plain": [
              "array([[4.5647404e-18, 1.0580944e-20, 1.8923134e-10, 2.1411485e-11,\n",
              "        9.9999928e-01, 2.8037709e-07, 3.1479029e-13, 4.2382177e-07,\n",
              "        1.3699504e-19, 1.2096835e-18],\n",
              "       [2.1191630e-16, 2.0387947e-17, 1.5672766e-09, 5.3581920e-07,\n",
              "        1.6256203e-10, 9.9999940e-01, 1.6712586e-09, 2.0782505e-08,\n",
              "        3.6550979e-15, 3.5129402e-16],\n",
              "       [1.2720516e-30, 5.0273257e-28, 5.1540610e-24, 3.6051960e-21,\n",
              "        1.0875389e-27, 8.1523708e-22, 1.0000000e+00, 1.1050866e-27,\n",
              "        6.1924613e-32, 1.2273912e-23],\n",
              "       [1.5143828e-16, 4.7667238e-18, 2.2583779e-09, 1.0000000e+00,\n",
              "        4.3480382e-11, 1.6883953e-12, 4.5315913e-13, 2.6686443e-16,\n",
              "        7.2660253e-19, 6.2049703e-17],\n",
              "       [8.2496687e-36, 1.0000000e+00, 0.0000000e+00, 0.0000000e+00,\n",
              "        0.0000000e+00, 0.0000000e+00, 0.0000000e+00, 9.3555905e-36,\n",
              "        8.6863322e-30, 8.2188497e-22],\n",
              "       [5.9702689e-24, 1.0000000e+00, 7.5488142e-27, 8.0230521e-27,\n",
              "        1.9714703e-30, 2.7339758e-29, 7.2189586e-31, 5.5681431e-27,\n",
              "        1.6187176e-26, 1.1906764e-13],\n",
              "       [6.4563300e-18, 2.9643555e-20, 1.0046188e-11, 9.9999988e-01,\n",
              "        6.0157613e-13, 9.1110458e-08, 7.8874650e-12, 1.1608745e-15,\n",
              "        7.8591060e-21, 8.5477557e-21],\n",
              "       [1.6670451e-27, 7.7629719e-24, 5.1402683e-20, 7.2384201e-18,\n",
              "        2.6578381e-21, 1.4439760e-24, 1.0000000e+00, 4.4414279e-27,\n",
              "        6.7756280e-26, 9.2962012e-24],\n",
              "       [4.1734696e-25, 4.3386671e-23, 1.7791831e-27, 2.9117102e-23,\n",
              "        1.0090079e-24, 3.1294075e-20, 1.0425371e-21, 2.7766173e-21,\n",
              "        1.0000000e+00, 2.1067387e-28]], dtype=float32)"
            ]
          },
          "metadata": {
            "tags": []
          },
          "execution_count": 39
        }
      ]
    },
    {
      "cell_type": "code",
      "metadata": {
        "id": "xXoMiGb-MyUf",
        "colab_type": "code",
        "colab": {
          "base_uri": "https://localhost:8080/",
          "height": 168
        },
        "outputId": "4c1c7f1f-27a2-4a1b-eb3d-0a3a926f7c90"
      },
      "source": [
        "for image in predictions:\n",
        "  print(np.sum(image))"
      ],
      "execution_count": 40,
      "outputs": [
        {
          "output_type": "stream",
          "text": [
            "1.0\n",
            "0.99999994\n",
            "1.0\n",
            "1.0\n",
            "1.0\n",
            "1.0\n",
            "1.0\n",
            "1.0\n",
            "1.0\n"
          ],
          "name": "stdout"
        }
      ]
    },
    {
      "cell_type": "code",
      "metadata": {
        "id": "Wv_BG2R4M49U",
        "colab_type": "code",
        "colab": {
          "base_uri": "https://localhost:8080/",
          "height": 34
        },
        "outputId": "df4cc3e4-4ef3-45b3-bade-3ac625c098e0"
      },
      "source": [
        "class_results = np.argmax(predictions, axis = -1)\n",
        "class_results"
      ],
      "execution_count": 42,
      "outputs": [
        {
          "output_type": "execute_result",
          "data": {
            "text/plain": [
              "array([4, 5, 6, 3, 1, 1, 3, 6, 8])"
            ]
          },
          "metadata": {
            "tags": []
          },
          "execution_count": 42
        }
      ]
    },
    {
      "cell_type": "code",
      "metadata": {
        "id": "jm_qIK5WNCxA",
        "colab_type": "code",
        "colab": {}
      },
      "source": [
        ""
      ],
      "execution_count": 0,
      "outputs": []
    },
    {
      "cell_type": "code",
      "metadata": {
        "id": "2A5UPu5HOhhl",
        "colab_type": "code",
        "colab": {}
      },
      "source": [
        ""
      ],
      "execution_count": 0,
      "outputs": []
    }
  ]
}